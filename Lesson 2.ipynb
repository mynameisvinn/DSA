{
 "cells": [
  {
   "cell_type": "markdown",
   "metadata": {},
   "source": [
    "## warm up assignment\n",
    "https://runestone.academy/runestone/books/published/pythonds/AlgorithmAnalysis/AnAnagramDetectionExample.html"
   ]
  },
  {
   "cell_type": "markdown",
   "metadata": {},
   "source": [
    "## stacks\n",
    "* describe implementation using array, then linked list\n",
    "* discuss runtime for operations push, pop, top, search (o(n))\n",
    "* example of balanced parenthesis with stack (https://runestone.academy/runestone/books/published/pythonds/BasicDS/SimpleBalancedParentheses.html)\n",
    "* convert decimal to binary using stack"
   ]
  },
  {
   "cell_type": "code",
   "execution_count": 5,
   "metadata": {},
   "outputs": [
    {
     "name": "stdout",
     "output_type": "stream",
     "text": [
      "1\n",
      "0\n",
      "0\n",
      "1\n",
      "0\n",
      "1\n",
      "1\n",
      "1\n"
     ]
    }
   ],
   "source": [
    "\n",
    "val = 233\n",
    "\n",
    "while val > 0:\n",
    "    b = val % 2\n",
    "    print(b)  # binary \n",
    "    val = val // 2\n",
    "    # print(val)"
   ]
  },
  {
   "cell_type": "markdown",
   "metadata": {},
   "source": [
    "## queues\n",
    "* implementation with array\n",
    "* complexity for enqueue, deque, and size\n",
    "* implement queue with 2 stacks\n",
    "* now implement stack with queue"
   ]
  },
  {
   "cell_type": "code",
   "execution_count": null,
   "metadata": {
    "collapsed": true
   },
   "outputs": [],
   "source": []
  },
  {
   "cell_type": "code",
   "execution_count": null,
   "metadata": {
    "collapsed": true
   },
   "outputs": [],
   "source": []
  }
 ],
 "metadata": {
  "kernelspec": {
   "display_name": "Python 3",
   "language": "python",
   "name": "python3"
  },
  "language_info": {
   "codemirror_mode": {
    "name": "ipython",
    "version": 3
   },
   "file_extension": ".py",
   "mimetype": "text/x-python",
   "name": "python",
   "nbconvert_exporter": "python",
   "pygments_lexer": "ipython3",
   "version": "3.6.8"
  }
 },
 "nbformat": 4,
 "nbformat_minor": 2
}
