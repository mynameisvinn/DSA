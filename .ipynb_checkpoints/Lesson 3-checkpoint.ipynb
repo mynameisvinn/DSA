{
 "cells": [
  {
   "cell_type": "markdown",
   "metadata": {},
   "source": [
    "# [recursion](https://softwareengineering.stackexchange.com/questions/325601/is-a-while-loop-intrinsically-a-recursion)\n",
    "now that we know about stacks, lets talk about recursion.\n",
    "\n",
    "It is true that both recursion and unbounded while-loops are equivalent in terms of computational expressiveness. That is, any program written recursively can be rewritten into an equivalent program using loops instead, and vice versa. Both approaches are turing-complete, that is either can be used to compute any computable function.\n",
    "\n",
    "# doing useful work with linear data structures\n",
    "usually we (1) represent data structures, (2) organize (eg sorting), and finally do something (eg search for smallest number). \n",
    "\n",
    "## why do we want to manipulate data structure?\n",
    "* compare unsorted versus sorted list\n",
    "* sorted list gives us binary search (implement and examine run time, why is it o(log n), write unit tests)\n",
    "* combine ordered list (implemented through linked list) with binary search\n",
    "\n",
    "## now that we know sorting provides benefits, lets examine sorting algorithms\n",
    "* bubble sort (talk about short bubbles)\n",
    "* selection sort"
   ]
  },
  {
   "cell_type": "code",
   "execution_count": null,
   "metadata": {},
   "outputs": [],
   "source": []
  }
 ],
 "metadata": {
  "kernelspec": {
   "display_name": "Python 3",
   "language": "python",
   "name": "python3"
  },
  "language_info": {
   "codemirror_mode": {
    "name": "ipython",
    "version": 3
   },
   "file_extension": ".py",
   "mimetype": "text/x-python",
   "name": "python",
   "nbconvert_exporter": "python",
   "pygments_lexer": "ipython3",
   "version": "3.7.3"
  }
 },
 "nbformat": 4,
 "nbformat_minor": 2
}
