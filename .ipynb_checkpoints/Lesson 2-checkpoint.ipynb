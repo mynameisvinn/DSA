{
 "cells": [
  {
   "cell_type": "markdown",
   "metadata": {},
   "source": [
    "# housekeeping items\n",
    "* names/seating\n",
    "* no class next tuesday\n",
    "* create a slack for discussion\n",
    "* js devs learn more than one language (show tracy's example)\n",
    "* unit test, so we will be writing unit tests during examples\n",
    "\n",
    "# lesson 2 agenda\n",
    "### what is computability?\n",
    "data (captured by data structures) + code/algorithms (recipe or instructions) + turing machine (a mechanical process based on a specific set of primitive instructions like add or move) to do useful work.\n",
    "\n",
    "### why do we care about abstract data structures?\n",
    "everything about data structures and algorithms is about searching for the correct answer. to arrive at the right answer, we will represent data in some clever data structure. we might touch it with sorting algorithms, and then search it.\n",
    "\n",
    "most of computer science boils down to search/decidability. in other words, an algorithm is a function that takes some input (eg data structure) and returns an answer (does this number exist in this set?). the more powerful a data structure, the less complicated an algorithm needs to be.\n",
    "\n",
    "### how will we construct abstract data structures?\n",
    "cover linear data structures today (ordered lists, stacks, queues, deques). we can implement any of these \"abstract\" data structures with primitives (eg nodes and pointers). we can also implement them with each other, as we will see later. \n",
    "\n",
    "### why do we care about sorting algorithms?\n",
    "think about searching through an unordered list (what's the time complexity?) versus ordered list binary search). if we plan to repeatedly operate on the data structure, why not sort it? then you get to use binary search (which is $o(log n)$).\n",
    "\n",
    "we will cover sorting algorithms. usually folks study algorithms after data structures, but we want to match algorithms to its data structures. we'll see that sorting algorithms (eg merge sort, bubble sort) match with the linear data structures we just learned."
   ]
  },
  {
   "cell_type": "markdown",
   "metadata": {},
   "source": [
    "## warm up # 1 (big o for iterations)\n",
    "\n",
    "*if I have a loop, for(let i = 0; i < 7; i++) is that constant or n? I'm of the persuaion it is a constant because even though you are looping, it is only 7 times and will always be 7 times. It would be n is we didn't know the size of n as in n can be 7 or worst case it will be 10^1000 or something. Right? We know the worse case to be 7 so constant?*\n",
    "\n",
    "https://medium.com/omarelgabrys-blog/the-big-scary-o-notation-ce9352d827ce"
   ]
  },
  {
   "cell_type": "markdown",
   "metadata": {},
   "source": [
    "## [warm up # 2](https://runestone.academy/runestone/books/published/pythonds/AlgorithmAnalysis/AnAnagramDetectionExample.html) (anagram detection)\n",
    "\n",
    "\n",
    "A good example problem for showing algorithms with different orders of magnitude is the classic anagram detection problem for strings. One string is an anagram of another if the second is simply a rearrangement of the first. For example, 'heart' and 'earth' are anagrams. The strings 'python' and 'typhon' are anagrams as well. For the sake of simplicity, we will assume that the two strings in question are of equal length and that they are made up of symbols from the set of 26 lowercase alphabetic characters. Our goal is to write a boolean function that will take two strings and return whether they are anagrams.\n",
    "\n",
    "* brute force. from the first word, generate all possibilities. then compare.\n",
    "* checking off. go through each letter in first word, then check off in second word. this is o(n2)\n",
    "* sort and compare. o(nlog)\n",
    "* count and compare. we have a running counter for each letter. then we compare counters. o(n)\n",
    "* write a [unit tests](https://web.stanford.edu/class/cs9/sample_probs/Anagrams.pdf) - what to test for? (are and area are not anagrams, empty strings, strings of different lengths, non strings)"
   ]
  },
  {
   "cell_type": "markdown",
   "metadata": {},
   "source": [
    "# I) linear data structures\n",
    "## 1) ordered lists\n",
    "* implement an ordered list with linked lists\n",
    "* complexity analysis for is empty, add, pop\n",
    "\n",
    "## 2) stacks\n",
    "* describe implementation using array, discuss runtime for operations push, pop, top, search (o(n))\n",
    "* have class implement stack in linked list.\n",
    "* example of balanced parenthesis with stack (https://runestone.academy/runestone/books/published/pythonds/BasicDS/SimpleBalancedParentheses.html)\n",
    "\n",
    "## 3) queues\n",
    "* implementation with array and linked list, discuss complexity\n",
    "\n",
    "### bonus: [mix it up](https://www.studytonight.com/data-structures/time-complexity-of-algorithms)\n",
    "* implement queue with 2 stacks\n",
    "* now implement stack with two queues\n",
    "\n",
    "## 4) dequeues\n",
    "\n",
    "# II) doing interesting things with linear data structures\n",
    "## lets compare linear search of an unordered list and ordered list\n",
    "most of cs is search. we could search through an unsorted list (o(n)). \n",
    "\n",
    "or we could ask our data structures to share sort the list first, then use a simple search algorithm like binary search (o(log n)). \n",
    "\n",
    "## lets explore binary search!\n",
    "show why binary search is $o(log n)$.\n",
    "\n",
    "# III) sorting\n",
    "now we know why sorting linear data structures is important, lets learn about sorting algorithms. \n",
    "\n",
    "## bubble sort\n",
    "## selection sort\n",
    "\n",
    "# conclusion\n",
    "everything about data structures and algorithms is about searching for the correct answer. to arrive at the right answer, we will represent data in some clever data structure. we might touch it with sorting algorithms, and then search it.\n",
    "\n",
    "first we learned about primitive data structures like nodes. \n",
    "\n",
    "then we learned how to represent data in simple linear structures. we observed that it's better to keep things orderly for repeated retrieval. one way to do that with our simple linear data structures is by maintaining it with sorting. that makes search a o(nlogn) problem.\n",
    "\n",
    "for the remaining sessions, we'll learn more complicated, nonlinear data structures like graphs and trees. and just like we learned to sort simple data structures, we'll learn to sort nonlinear data structures (eg rotations), which will allow us to answer questions in o(1) time and search in short time.\n",
    "\n",
    "however, there will be a space of problems. what about np hard problems? no data structure will solve the problem for us, no matter how fancy. to that end, we'll learn to search it with mcts and beam search."
   ]
  },
  {
   "cell_type": "code",
   "execution_count": null,
   "metadata": {
    "collapsed": true
   },
   "outputs": [],
   "source": []
  }
 ],
 "metadata": {
  "kernelspec": {
   "display_name": "Python 3",
   "language": "python",
   "name": "python3"
  },
  "language_info": {
   "codemirror_mode": {
    "name": "ipython",
    "version": 3
   },
   "file_extension": ".py",
   "mimetype": "text/x-python",
   "name": "python",
   "nbconvert_exporter": "python",
   "pygments_lexer": "ipython3",
   "version": "3.7.3"
  }
 },
 "nbformat": 4,
 "nbformat_minor": 2
}
