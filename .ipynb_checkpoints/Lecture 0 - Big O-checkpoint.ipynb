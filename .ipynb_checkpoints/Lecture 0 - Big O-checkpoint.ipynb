{
 "cells": [
  {
   "cell_type": "markdown",
   "metadata": {},
   "source": [
    "## data structures\n",
    "* go around the room, introductions and what they want out of this\n",
    "* data + algorithms = programs"
   ]
  },
  {
   "cell_type": "markdown",
   "metadata": {},
   "source": [
    "<img src=\"introduction-to-data-structures.gif\">"
   ]
  },
  {
   "cell_type": "markdown",
   "metadata": {},
   "source": [
    "## big O notation\n",
    "* Constant time: O(1)\n",
    "* Logarithmic time: O(log n)\n",
    "* Linear time: O(n)\n",
    "* Linearithmic time: O(n log n)\n",
    "* Quadratic time: O(n2)\n",
    "* Cubic time: O(n3)\n",
    "* Exponential time: O(2n)\n",
    "* Factorial time: O(n!)"
   ]
  },
  {
   "cell_type": "markdown",
   "metadata": {},
   "source": [
    "<img src=\"image5.png\" width=\"500\" height=\"500\">"
   ]
  },
  {
   "cell_type": "markdown",
   "metadata": {},
   "source": [
    "## working example: calculating time complexity"
   ]
  },
  {
   "cell_type": "markdown",
   "metadata": {},
   "source": [
    "// https://runestone.academy/runestone/books/published/pythonds/AlgorithmAnalysis/BigONotation.html\n",
    "\n",
    "a=5\n",
    "b=6\n",
    "c=10\n",
    "for i in range(n):\n",
    "   for j in range(n):\n",
    "      x = i * i\n",
    "      y = j * j\n",
    "      z = i * j\n",
    "for k in range(n):\n",
    "   w = a*k + 45\n",
    "   v = b*b\n",
    "d = 33"
   ]
  },
  {
   "cell_type": "code",
   "execution_count": 10,
   "metadata": {},
   "outputs": [],
   "source": [
    "// another working example\n",
    "\n",
    "function getMin(array){\n",
    "    let min;  // one\n",
    "    for (let index = 0; index < array.length; index++){\n",
    "        let element = array[index];  // one\n",
    "        if (min == undefined || element < min){  // one\n",
    "            min = element  // one\n",
    "        }\n",
    "    }\n",
    "    return min; // one\n",
    "}\n",
    "\n",
    "// 3(n) + 2"
   ]
  },
  {
   "cell_type": "markdown",
   "metadata": {},
   "source": [
    "// class assignment\n",
    "https://runestone.academy/runestone/books/published/pythonds/AlgorithmAnalysis/AnAnagramDetectionExample.html"
   ]
  },
  {
   "cell_type": "markdown",
   "metadata": {},
   "source": [
    "## computational complexity\n",
    "<img src=\"main-qimg-0b44e350fbdb09cff823e2cd29c2cb7e.png\">"
   ]
  },
  {
   "cell_type": "code",
   "execution_count": null,
   "metadata": {},
   "outputs": [],
   "source": []
  }
 ],
 "metadata": {
  "kernelspec": {
   "display_name": "Javascript (Node.js)",
   "language": "javascript",
   "name": "javascript"
  },
  "language_info": {
   "file_extension": ".js",
   "mimetype": "application/javascript",
   "name": "javascript",
   "version": "12.8.0"
  }
 },
 "nbformat": 4,
 "nbformat_minor": 2
}
