{
 "cells": [
  {
   "cell_type": "markdown",
   "metadata": {},
   "source": [
    "# 1) [Arrays](https://github.com/amejiarosario/dsa.js-data-structures-algorithms-javascript/blob/master/book/content/part02/array.asc)"
   ]
  },
  {
   "cell_type": "markdown",
   "metadata": {},
   "source": [
    "<img src=\"image16.png\" width=400>"
   ]
  },
  {
   "cell_type": "markdown",
   "metadata": {},
   "source": [
    "### insertion"
   ]
  },
  {
   "cell_type": "code",
   "execution_count": 5,
   "metadata": {},
   "outputs": [
    {
     "data": {
      "text/plain": [
       "[ 2, 5, 1, 9, 6, 7 ]"
      ]
     },
     "execution_count": 5,
     "metadata": {},
     "output_type": "execute_result"
    }
   ],
   "source": [
    "// (1) Add elements at the creation time:\n",
    "const a = [2, 5, 1, 9, 6, 7];\n",
    "a"
   ]
  },
  {
   "cell_type": "code",
   "execution_count": 8,
   "metadata": {},
   "outputs": [
    {
     "ename": "SyntaxError",
     "evalue": "Identifier 'a2' has already been declared",
     "output_type": "error",
     "traceback": [
      "evalmachine.<anonymous>:1",
      "// (2) initialize an empty array and add values later",
      "^",
      "",
      "SyntaxError: Identifier 'a2' has already been declared",
      "    at evalmachine.<anonymous>:1:1",
      "    at Script.runInThisContext (vm.js:126:20)",
      "    at Object.runInThisContext (vm.js:316:38)",
      "    at run ([eval]:1054:15)",
      "    at onRunRequest ([eval]:888:18)",
      "    at onMessage ([eval]:848:13)",
      "    at process.emit (events.js:203:13)",
      "    at emit (internal/child_process.js:876:12)",
      "    at processTicksAndRejections (internal/process/task_queues.js:77:11)"
     ]
    }
   ],
   "source": [
    "// (2) initialize an empty array and add values later\n",
    "const a2 = [];\n",
    "array2[3] = 1;\n",
    "array2[100] = 2;\n",
    "console.log(array2); // [empty × 3, 1, empty × 96, 2]"
   ]
  },
  {
   "cell_type": "markdown",
   "metadata": {},
   "source": [
    "# 2) Linked Lists\n",
    "A list (or Linked List) is a linear data structure where each node is \"linked\" to the next.\n",
    "\n",
    "Linked Lists can be singly (every item has a pointer to the next node), doubly (every node has a reference to the next and previous object), or circular."
   ]
  },
  {
   "cell_type": "markdown",
   "metadata": {},
   "source": [
    "### singly linked list\n",
    "<img src=\"image19.png\">"
   ]
  },
  {
   "cell_type": "markdown",
   "metadata": {},
   "source": [
    "### doubly linked list\n",
    "<img src=\"image20.png\">"
   ]
  },
  {
   "cell_type": "markdown",
   "metadata": {},
   "source": [
    "### linked list versus arrays\n",
    "Arrays allow you to access data anywhere in the collection using an index. However, Linked List visits nodes in sequential order. In the worst case scenario, it takes O(n) to get an element from a Linked List. You might be wondering: Isn’t always an array more efficient with O(1) access time? It depends.\n",
    "\n",
    "We also have to understand the space complexity to see the trade-offs between arrays and linked lists. An array pre-allocates contiguous blocks of memory. When it is getting full, it has to create a bigger array (usually 2x) and copy all the elements. It takes O(n) to copy all the items over. On the other hand, LinkedList’s nodes only reserve precisely the amount of memory it needs. They don’t have to be next to each other, nor large chunks of memory have to be booked beforehand like arrays. Linked List is more on a \"grow as you go\" basis.\n",
    "\n",
    "Another difference is that adding/deleting at the beginning on an array takes O(n); however, the linked list is a constant operation O(1) as we will implement later.\n",
    "\n",
    "A drawback of a linked list is that if you want to insert/delete an element at the end of the list, you would have to navigate the whole collection to find the last one O(n)."
   ]
  },
  {
   "cell_type": "markdown",
   "metadata": {},
   "source": [
    "# 3) Queue\n",
    "A queue is a linear data structure where the data flows in a First-In-First-Out (FIFO) manner.\n",
    "\n",
    "<img src=\"image30.png\">"
   ]
  },
  {
   "cell_type": "markdown",
   "metadata": {},
   "source": [
    "# 4) Stacks\n",
    "\n",
    "The stack is a data structure that restricts the way you add and remove data. It only allows you to insert and retrieve in a Last-In-First-Out (LIFO) fashion.\n",
    "\n",
    "An analogy is to think the stack is a rod and the data are discs. You can only take out the last one you put in.\n",
    "\n",
    "<img src=\"image29.png\">\n",
    "\n",
    "Figure 1. Stack data structure is like a stack of disks: the last element in is the first element out\n",
    "As you can see in the image above, If you insert the disks in the order 5, 4, 3, 2, 1. Then you can remove them on 1, 2, 3, 4, 5.\n",
    "\n",
    "The stack inserts items to the end of the collection and also removes from the end. Both, an array and linked list would do it in constant time. However, since we don’t need the Array’s random access, a linked list makes more sense."
   ]
  },
  {
   "cell_type": "code",
   "execution_count": null,
   "metadata": {},
   "outputs": [],
   "source": []
  }
 ],
 "metadata": {
  "kernelspec": {
   "display_name": "Javascript (Node.js)",
   "language": "javascript",
   "name": "javascript"
  },
  "language_info": {
   "file_extension": ".js",
   "mimetype": "application/javascript",
   "name": "javascript",
   "version": "12.8.0"
  }
 },
 "nbformat": 4,
 "nbformat_minor": 2
}
