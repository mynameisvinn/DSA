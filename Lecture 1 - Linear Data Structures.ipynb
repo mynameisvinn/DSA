{
 "cells": [
  {
   "cell_type": "markdown",
   "metadata": {},
   "source": [
    "# 1) [Arrays](https://github.com/amejiarosario/dsa.js-data-structures-algorithms-javascript/blob/master/book/content/part02/array.asc)\n",
    "\n",
    "### definition\n",
    "* draw it out\n",
    "* how is it laid out in memory?\n",
    "\n",
    "### lets [examine](https://repl.it/@mynameisvinn/Array-Implementation) commonly used array operations and their runtimes\n",
    "* insertion by indexing is o(1)\n",
    "* insert from beginning with array.unshift is o(n)\n",
    "* insert from middle with array.splice is o(n)\n",
    "* insert to tail with array.push is o(1) \n",
    "* search by index is o(1)\n",
    "* search by value is o(n)\n",
    "* delete from beginning (array.shift) is o(n)\n",
    "* delete from middle with array.splice is o(n)\n",
    "* delete from end with array.pop is o(1)"
   ]
  },
  {
   "cell_type": "markdown",
   "metadata": {},
   "source": [
    "# 2) [Linked Lists](https://github.com/amejiarosario/dsa.js-data-structures-algorithms-javascript/blob/master/book/content/part02/linked-list.asc)\n",
    "* draw out linked lists and define it\n",
    "* implement linked lists\n",
    "* talk about commonly used operations and runtimes (searching by value, searching by index, insertion to beginning is o(1), insert to middle, insert to end is o(1))\n",
    "* compare linked lists with arrays"
   ]
  },
  {
   "cell_type": "markdown",
   "metadata": {},
   "source": [
    "# 3) Queue\n",
    "* definitions\n",
    "* implementation"
   ]
  },
  {
   "cell_type": "markdown",
   "metadata": {},
   "source": [
    "# 4) Stacks\n",
    "\n",
    "The stack is a data structure that restricts the way you add and remove data. It only allows you to insert and retrieve in a Last-In-First-Out (LIFO) fashion.\n",
    "\n",
    "An analogy is to think the stack is a rod and the data are discs. You can only take out the last one you put in.\n",
    "\n",
    "<img src=\"image29.png\">\n",
    "\n",
    "Figure 1. Stack data structure is like a stack of disks: the last element in is the first element out\n",
    "As you can see in the image above, If you insert the disks in the order 5, 4, 3, 2, 1. Then you can remove them on 1, 2, 3, 4, 5.\n",
    "\n",
    "The stack inserts items to the end of the collection and also removes from the end. Both, an array and linked list would do it in constant time. However, since we don’t need the Array’s random access, a linked list makes more sense."
   ]
  },
  {
   "cell_type": "code",
   "execution_count": null,
   "metadata": {},
   "outputs": [],
   "source": []
  }
 ],
 "metadata": {
  "kernelspec": {
   "display_name": "Javascript (Node.js)",
   "language": "javascript",
   "name": "javascript"
  },
  "language_info": {
   "file_extension": ".js",
   "mimetype": "application/javascript",
   "name": "javascript",
   "version": "12.8.0"
  }
 },
 "nbformat": 4,
 "nbformat_minor": 2
}
